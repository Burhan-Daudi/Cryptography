{
 "cells": [
  {
   "cell_type": "markdown",
   "metadata": {},
   "source": [
    "# project :-> Cryptogaphy Using Python Script"
   ]
  },
  {
   "cell_type": "raw",
   "metadata": {},
   "source": [
    "Cryptography :  Cryptography is associated with the process of converting ordinary plain text into unintelligible text and vice-versa. It is a method of storing and transmitting data in a particular form so that only those for whom it is intended can read and process it."
   ]
  },
  {
   "cell_type": "code",
   "execution_count": 2,
   "metadata": {},
   "outputs": [
    {
     "name": "stdout",
     "output_type": "stream",
     "text": [
      "Requirement already satisfied: cryptography in c:\\users\\burhanuddin\\anaconda3\\lib\\site-packages (3.1.1)\n",
      "Requirement already satisfied: six>=1.4.1 in c:\\users\\burhanuddin\\anaconda3\\lib\\site-packages (from cryptography) (1.15.0)\n",
      "Requirement already satisfied: cffi!=1.11.3,>=1.8 in c:\\users\\burhanuddin\\anaconda3\\lib\\site-packages (from cryptography) (1.14.3)\n",
      "Requirement already satisfied: pycparser in c:\\users\\burhanuddin\\anaconda3\\lib\\site-packages (from cffi!=1.11.3,>=1.8->cryptography) (2.20)\n"
     ]
    }
   ],
   "source": [
    "!pip install cryptography\n"
   ]
  },
  {
   "cell_type": "code",
   "execution_count": 55,
   "metadata": {},
   "outputs": [],
   "source": [
    "from cryptography.fernet import Fernet\n",
    "def genratePassKey():\n",
    "    key = Fernet.generate_key()\n",
    "    abc=open(\"PasswordKey.key\",'wb')\n",
    "    abc.write(key)\n",
    "    abc.close()"
   ]
  },
  {
   "cell_type": "code",
   "execution_count": 56,
   "metadata": {},
   "outputs": [],
   "source": [
    "def getMyKey():\n",
    "    abc=open(\"PasswordKey.key\",'rb')\n",
    "    return abc.read()"
   ]
  },
  {
   "cell_type": "code",
   "execution_count": 57,
   "metadata": {},
   "outputs": [],
   "source": [
    "def encryptMessage():\n",
    "    key= getMyKey()\n",
    "    k=Fernet(key)\n",
    "    m=input(\"Enter the content you want to encrypt: \")\n",
    "    msg_normal=bytes(m, encoding='utf8')\n",
    "    encrypted_msg=k.encrypt(msg_normal)\n",
    "    return  encrypted_msg    "
   ]
  },
  {
   "cell_type": "code",
   "execution_count": 58,
   "metadata": {},
   "outputs": [],
   "source": [
    "def decryptMessage(msg_secrate):\n",
    "     key= getMyKey()\n",
    "     k = Fernet(key)\n",
    "     decrypted_msg=k.decrypt(msg_secrate)\n",
    "     return decrypted_msg  "
   ]
  },
  {
   "cell_type": "code",
   "execution_count": 59,
   "metadata": {},
   "outputs": [
    {
     "name": "stdout",
     "output_type": "stream",
     "text": [
      "Enter the content you want to encrypt: ATM PIN 1000\n",
      "Encrypted Massage :  b'gAAAAABf2e8iDOIo5cXoP9YcGp9vqmij4M2T1r5239ot_cZIsPtaom1OIxloJOuGSxSC2_NCN9ho1AqZxCPSVW-EvsglYMXo0Q=='\n",
      "After Decryption of massage b'ATM PIN 1000'\n"
     ]
    }
   ],
   "source": [
    "msg=encryptMessage()\n",
    "print(\"Encrypted Massage : \",msg)\n",
    "res=decryptMessage(msg)\n",
    "print(\"After Decryption of massage\",res)"
   ]
  }
 ],
 "metadata": {
  "kernelspec": {
   "display_name": "Python 3",
   "language": "python",
   "name": "python3"
  },
  "language_info": {
   "codemirror_mode": {
    "name": "ipython",
    "version": 3
   },
   "file_extension": ".py",
   "mimetype": "text/x-python",
   "name": "python",
   "nbconvert_exporter": "python",
   "pygments_lexer": "ipython3",
   "version": "3.8.5"
  }
 },
 "nbformat": 4,
 "nbformat_minor": 4
}
